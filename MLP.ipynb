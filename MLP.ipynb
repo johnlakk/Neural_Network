{
 "cells": [
  {
   "cell_type": "markdown",
   "metadata": {},
   "source": [
    "# Multiclass Classification"
   ]
  },
  {
   "cell_type": "markdown",
   "metadata": {},
   "source": [
    "<h2> Short story </h2>"
   ]
  },
  {
   "cell_type": "markdown",
   "metadata": {},
   "source": [
    "Most of the times we encounter problems that are not binary. E.x. imagine you're given a photo and your task it to predict if it contains a dog, cat, horse, duck etc.\n",
    "Shortly you would like to assign each example to $1$ class of $k$ classes."
   ]
  },
  {
   "cell_type": "markdown",
   "metadata": {},
   "source": [
    "<h2> Naive way </h2>"
   ]
  },
  {
   "cell_type": "markdown",
   "metadata": {},
   "source": [
    "Given k klasses the most naive way is to train k binary classifiers. We could then predict that an example x belongs to the class  𝑖={1,2,...,𝑘}  based on which classifier outputted the highest probability"
   ]
  },
  {
   "cell_type": "markdown",
   "metadata": {},
   "source": [
    "## Smarter Way"
   ]
  },
  {
   "cell_type": "markdown",
   "metadata": {},
   "source": [
    "There is a smarter way to go about this. We could force the output to be a discrete probability distribution over k classes.\n",
    "​\n",
    "To be a valid distribution the values of the output units\n",
    "​\n",
    "1) must be non-negative\n",
    "​\n",
    "2) must sum to 1\n",
    "​\n",
    "We can achieve this by applying the softmax function\n",
    "​\n",
    "$$softmax(z) = \\frac{ e^{z} }{ \\sum_{i=1}^{k} e^{ z_{i} } }$$\n",
    "​\n",
    "Each unit is exponetiated, therefore we force each unit to be positive\n",
    "​\n",
    "afterwards we have to normalize everything to 0-1"
   ]
  },
  {
   "cell_type": "markdown",
   "metadata": {},
   "source": [
    "<h2> One hot vectors </h2>"
   ]
  },
  {
   "cell_type": "markdown",
   "metadata": {},
   "source": [
    "A binary vector of length K, where each value is 0 except for the class it belongs, the value is 1."
   ]
  },
  {
   "cell_type": "markdown",
   "metadata": {},
   "source": [
    "$t_{nk} \\in \\{ 0,1 \\}, \\sum_{k=1}^{K} t_{nk} = 1$"
   ]
  },
  {
   "cell_type": "markdown",
   "metadata": {},
   "source": [
    "Example of k=3 classes\n",
    "\n",
    "\\begin{equation}\n",
    "\\begin{bmatrix}\n",
    "    1\\\\\n",
    "    0\\\\\n",
    "    0\n",
    "\\end{bmatrix},\n",
    "\\begin{bmatrix}\n",
    "    0\\\\\n",
    "    1\\\\\n",
    "    0\n",
    "\\end{bmatrix},\n",
    "\\begin{bmatrix}\n",
    "    0\\\\\n",
    "    0\\\\\n",
    "    1\n",
    "\\end{bmatrix}\n",
    "\\end{equation}"
   ]
  },
  {
   "cell_type": "markdown",
   "metadata": {},
   "source": [
    "## Model"
   ]
  },
  {
   "cell_type": "markdown",
   "metadata": {},
   "source": [
    "Likelihood\n",
    "$$p( T | W ) = \\sum_{n=1}^{N} \\sum_{k=1}^{K} y_{nk}^{t_{nk}}$$"
   ]
  },
  {
   "cell_type": "markdown",
   "metadata": {},
   "source": [
    "The cost function (logLikelihood plus reguralization term) we want to maximize for the problem of classifying N number of data in K categories/classes is:\n",
    "\n",
    "$$\n",
    "E(W) = \\sum_{n=1}^N \\sum_{k=1}^K t_{nk} \\log y_{nk}   -  \\frac{\\lambda}{2} \\sum_{k=1}^K ||\\mathbf{w_k}||^2, \n",
    "$$\n",
    "\n",
    "where $y_{nk}$ is the softmax function defined as:\n",
    "\n",
    "$$y_{nk} = \\frac{e^{\\mathbf{w}_k^T \\mathbf{x}_n}}{\\sum_{j=1}^K e^{\\mathbf{w}_j^T \\mathbf{x}_n}}$$\n",
    "$W$ is a $K \\times (D+1)$ matrix where each line represents the vector $\\mathbf{w}_k$.\n",
    "\n",
    "\n",
    "The cost function can be simplified in the following form:\n",
    "\n",
    "\n",
    "\n",
    "$$\n",
    "E(W) = \\sum_{n=1}^N \\left[ \\left( \\sum_{k=1}^K t_{nk} \\mathbf{w}_k^T \\mathbf{x}_n \\right) - \\log \\left( \\sum_{j=1}^K e^{\\mathbf{w}_j^T \\mathbf{x}_n} \\right) \\right]   -  \\frac{\\lambda}{2} \\sum_{k=1}^K ||\\mathbf{w}_k||^2, \n",
    "$$\n",
    "\n",
    "\n",
    "\n",
    "In the above formula we have used the fact that $\\sum_{k=1}^K t_{nk} = 1$. \n",
    "\n",
    "The partial derrivatives of this function are given by the following $K \\times (D+1)$ matrix:\n",
    "\n",
    "$$\n",
    "(T - S)^Τ X - \\lambda W,\n",
    "$$\n",
    "\n",
    "where $T$ is an $N \\times K$ matrix with the truth values of the training data, such that $[T]_{nk} = t_{nk}$, $S$ is the corresponding $N \\times K$ matrix that holds the softmax probabilities such that $[S]_{nk} = y_{nk}$ and $X$ is the $N \\times (D + 1)$ matrix of the input data"
   ]
  },
  {
   "cell_type": "markdown",
   "metadata": {},
   "source": [
    "## Imports"
   ]
  },
  {
   "cell_type": "code",
   "execution_count": 1,
   "metadata": {},
   "outputs": [],
   "source": [
    "import pandas as pd\n",
    "import re\n",
    "from random import shuffle\n",
    "import numpy as np\n",
    "import matplotlib.pyplot as plt\n",
    "from tqdm import tqdm\n",
    "import _pickle as cPickle\n",
    "import random\n",
    "import os\n",
    "from pprint import pprint\n",
    "from matplotlib import pyplot as plt"
   ]
  },
  {
   "cell_type": "code",
   "execution_count": 2,
   "metadata": {},
   "outputs": [],
   "source": [
    "random.seed(0)"
   ]
  },
  {
   "cell_type": "markdown",
   "metadata": {},
   "source": [
    "## Softmax"
   ]
  },
  {
   "cell_type": "code",
   "execution_count": 3,
   "metadata": {},
   "outputs": [],
   "source": [
    "#use by default ax=1, when the array is 2D\n",
    "#use ax=0 when the array is 1D\n",
    "def softmax( x, ax=1 ):\n",
    "    m = np.max( x, axis=ax, keepdims=True )#max per row\n",
    "    p = np.exp( x - m )\n",
    "    return ( p / np.sum(p,axis=ax,keepdims=True) )"
   ]
  },
  {
   "cell_type": "markdown",
   "metadata": {},
   "source": [
    "2D case"
   ]
  },
  {
   "cell_type": "code",
   "execution_count": 4,
   "metadata": {},
   "outputs": [],
   "source": [
    "z = np.array( [ [10,20,30,40], [20,50,45,45], [983,39,57,752], [574,575,597,525] ] )"
   ]
  },
  {
   "cell_type": "code",
   "execution_count": 5,
   "metadata": {},
   "outputs": [
    {
     "data": {
      "text/plain": [
       "array([[ 10,  20,  30,  40],\n",
       "       [ 20,  50,  45,  45],\n",
       "       [983,  39,  57, 752],\n",
       "       [574, 575, 597, 525]])"
      ]
     },
     "execution_count": 5,
     "metadata": {},
     "output_type": "execute_result"
    }
   ],
   "source": [
    "z"
   ]
  },
  {
   "cell_type": "code",
   "execution_count": 6,
   "metadata": {},
   "outputs": [
    {
     "data": {
      "text/html": [
       "<div>\n",
       "<style scoped>\n",
       "    .dataframe tbody tr th:only-of-type {\n",
       "        vertical-align: middle;\n",
       "    }\n",
       "\n",
       "    .dataframe tbody tr th {\n",
       "        vertical-align: top;\n",
       "    }\n",
       "\n",
       "    .dataframe thead th {\n",
       "        text-align: right;\n",
       "    }\n",
       "</style>\n",
       "<table border=\"1\" class=\"dataframe\">\n",
       "  <thead>\n",
       "    <tr style=\"text-align: right;\">\n",
       "      <th></th>\n",
       "      <th>0</th>\n",
       "      <th>1</th>\n",
       "      <th>2</th>\n",
       "      <th>3</th>\n",
       "    </tr>\n",
       "  </thead>\n",
       "  <tbody>\n",
       "    <tr>\n",
       "      <th>0</th>\n",
       "      <td>9.357198e-14</td>\n",
       "      <td>2.061060e-09</td>\n",
       "      <td>0.000045</td>\n",
       "      <td>9.999546e-01</td>\n",
       "    </tr>\n",
       "    <tr>\n",
       "      <th>1</th>\n",
       "      <td>9.233197e-14</td>\n",
       "      <td>9.867033e-01</td>\n",
       "      <td>0.006648</td>\n",
       "      <td>6.648354e-03</td>\n",
       "    </tr>\n",
       "    <tr>\n",
       "      <th>2</th>\n",
       "      <td>1.000000e+00</td>\n",
       "      <td>0.000000e+00</td>\n",
       "      <td>0.000000</td>\n",
       "      <td>4.764032e-101</td>\n",
       "    </tr>\n",
       "    <tr>\n",
       "      <th>3</th>\n",
       "      <td>1.026188e-10</td>\n",
       "      <td>2.789468e-10</td>\n",
       "      <td>1.000000</td>\n",
       "      <td>5.380186e-32</td>\n",
       "    </tr>\n",
       "  </tbody>\n",
       "</table>\n",
       "</div>"
      ],
      "text/plain": [
       "              0             1         2              3\n",
       "0  9.357198e-14  2.061060e-09  0.000045   9.999546e-01\n",
       "1  9.233197e-14  9.867033e-01  0.006648   6.648354e-03\n",
       "2  1.000000e+00  0.000000e+00  0.000000  4.764032e-101\n",
       "3  1.026188e-10  2.789468e-10  1.000000   5.380186e-32"
      ]
     },
     "execution_count": 6,
     "metadata": {},
     "output_type": "execute_result"
    }
   ],
   "source": [
    "pd.DataFrame( softmax( z ) )"
   ]
  },
  {
   "cell_type": "markdown",
   "metadata": {},
   "source": [
    "1D case\n",
    "\n",
    "Let's take an example where all values are equal. As expected everything is 1 / |z|."
   ]
  },
  {
   "cell_type": "code",
   "execution_count": 7,
   "metadata": {},
   "outputs": [
    {
     "data": {
      "text/plain": [
       "array([0.25, 0.25, 0.25, 0.25])"
      ]
     },
     "execution_count": 7,
     "metadata": {},
     "output_type": "execute_result"
    }
   ],
   "source": [
    "z = np.array( [1,1,1,1] )\n",
    "softmax( z, ax=0 )"
   ]
  },
  {
   "cell_type": "code",
   "execution_count": null,
   "metadata": {},
   "outputs": [],
   "source": []
  },
  {
   "cell_type": "markdown",
   "metadata": {},
   "source": [
    "## Activation Functions (Tanh: 'tanh' , Cos: 'cos' , Softplus: 'softplus')"
   ]
  },
  {
   "cell_type": "code",
   "execution_count": 8,
   "metadata": {},
   "outputs": [],
   "source": [
    "def softplus(X):\n",
    "    return np.log(1 + np.exp(- np.abs(X))) + np.maximum(X, 0)  "
   ]
  },
  {
   "cell_type": "code",
   "execution_count": 9,
   "metadata": {},
   "outputs": [],
   "source": [
    "def tanh(X):\n",
    "    return np.tanh(X)  "
   ]
  },
  {
   "cell_type": "code",
   "execution_count": 10,
   "metadata": {},
   "outputs": [],
   "source": [
    "def cos(X):\n",
    "    return np.cos(X)"
   ]
  },
  {
   "cell_type": "code",
   "execution_count": 11,
   "metadata": {},
   "outputs": [],
   "source": [
    "def derivative_softplus(X):\n",
    "    return 1 / (1 + np.exp(- X))"
   ]
  },
  {
   "cell_type": "code",
   "execution_count": 12,
   "metadata": {},
   "outputs": [],
   "source": [
    "def derivative_tanh(X):\n",
    "    return 1 - np.power(np.tanh(X), 2)"
   ]
  },
  {
   "cell_type": "code",
   "execution_count": 13,
   "metadata": {},
   "outputs": [],
   "source": [
    "def derivative_cos(X):\n",
    "    return -(np.sin(X))"
   ]
  },
  {
   "cell_type": "code",
   "execution_count": 14,
   "metadata": {},
   "outputs": [],
   "source": [
    "def activation_function(X):\n",
    "    return non_linearity(X)"
   ]
  },
  {
   "cell_type": "code",
   "execution_count": 15,
   "metadata": {},
   "outputs": [],
   "source": [
    "def derivative_activation_function(X):\n",
    "    return derivative_function(X)"
   ]
  },
  {
   "cell_type": "markdown",
   "metadata": {},
   "source": [
    "## MLP "
   ]
  },
  {
   "cell_type": "markdown",
   "metadata": {},
   "source": [
    "### Forward pass"
   ]
  },
  {
   "cell_type": "code",
   "execution_count": 16,
   "metadata": {},
   "outputs": [],
   "source": [
    "def forward(X, t, weights_1, weights_2):\n",
    "    # pass the input through the hidden layer\n",
    "   \n",
    "    \n",
    "    a = activation_function(X.dot(weights_1.T))\n",
    "    hidden = np.ones((a.shape[0], a.shape[1] + 1), dtype=float)\n",
    "    hidden[:, 1:] = a\n",
    "    \n",
    "    y = hidden.dot(weights_2.T)\n",
    "\n",
    "    y = softmax(y)\n",
    "\n",
    "    loss = get_loss(t, y, weights_1, weights_2)\n",
    "\n",
    "    return loss, y, hidden\n"
   ]
  },
  {
   "cell_type": "code",
   "execution_count": 17,
   "metadata": {},
   "outputs": [],
   "source": [
    "def forward_keep_activations(X, weights_1, weights_2):\n",
    "    # pass the input through the hidden layer\n",
    "    #hidden_layer_representation = get_hidden_layer_representation(input, weights_1)\n",
    "    \n",
    "    a = activation_function(X.dot(weights_1.T))\n",
    "    hidden = np.ones((a.shape[0], a.shape[1] + 1), dtype=float)\n",
    "    hidden[:, 1:] = a\n",
    "    \n",
    "    # calculate dot product between weights_2 and hidden layer representation\n",
    "    # hidden layer_representation : B x (M + 1)\n",
    "    # weights_2 : K x (M + 1)\n",
    "    y = hidden.dot(weights_2.T)\n",
    "\n",
    "    # output now has dimensions: batch_size x K\n",
    "    y = softmax(y)\n",
    "\n",
    "    return y"
   ]
  },
  {
   "cell_type": "markdown",
   "metadata": {},
   "source": [
    "### Backward pass"
   ]
  },
  {
   "cell_type": "code",
   "execution_count": 18,
   "metadata": {},
   "outputs": [],
   "source": [
    "def backward(t, y, hidden_layer_rep, weights_1, weights_2, X):\n",
    "    # gradients for the weights between the hidden layer and the softmax layer\n",
    "    grad_weights_2 = (t - y).T.dot(hidden_layer_rep) - lamda * weights_2\n",
    "\n",
    "    # remove the bias from weights_2\n",
    "    weights_2_temp = np.copy(weights_2[:, 1:])\n",
    "\n",
    "    derivative_result = derivative_activation_function(X.dot(weights_1.T))\n",
    "\n",
    "    grad_weights_1_tmp = (t - y).dot(weights_2_temp) * derivative_result\n",
    "\n",
    "    grad_weights_1 = grad_weights_1_tmp.T.dot(X) - lamda * weights_1\n",
    "\n",
    "    return grad_weights_1, grad_weights_2"
   ]
  },
  {
   "cell_type": "markdown",
   "metadata": {},
   "source": [
    "### Cost Function"
   ]
  },
  {
   "cell_type": "markdown",
   "metadata": {},
   "source": [
    "For the cost function\n",
    "\n",
    "$$\n",
    "E(W) = \\sum_{n=1}^N \\left[ \\left( \\sum_{k=1}^K t_{nk} \\mathbf{w}_k^T \\mathbf{x}_n \\right) - \\log \\left( \\sum_{j=1}^K e^{\\mathbf{w}_j^T \\mathbf{x}_n} \\right) \\right]   -  \\frac{\\lambda}{2} \\sum_{k=1}^K ||\\mathbf{w}_k||^2, \n",
    "$$\n",
    "\n",
    "\n",
    "we use the logsumexp trick, where m is the maximum element\n",
    "\\begin{align} \n",
    "\\log \\sum_{i=1}^{n} e^{\\mathbf{w}_j^T \\mathbf{x}_n} &= \\log \\Bigr( \\sum_{i=1}^{n} e^{\\mathbf{w}_j^T \\mathbf{x}_n +m -m}\\Bigl) \\\\ \n",
    "&= \\log \\Bigr( \\sum_{i=1}^{n} e^m e^{\\mathbf{w}_j^T \\mathbf{x}_n-m} ) \\Bigl) \\\\ \n",
    "&= \\log \\Bigr( e^m \\sum_{i=1}^{n} e^{\\mathbf{w}_j^T \\mathbf{x}_n-m} ) \\Bigl) \\\\ \n",
    "&= \\log \\ e^m + \\log \\Bigr( \\sum_{i=1}^{n} e^{\\mathbf{w}_j^T \\mathbf{x}_n-m} ) \\Bigl) \\\\ \n",
    "&= m + \\log \\Bigr( \\sum_{i=1} e^{\\mathbf{w}_j^T \\mathbf{x}_n-m}  \\Bigl) \n",
    "\\end{align}"
   ]
  },
  {
   "cell_type": "code",
   "execution_count": 19,
   "metadata": {},
   "outputs": [],
   "source": [
    "def get_loss(t, y, weights1, weights2):\n",
    "    regularization = (lamda / 2) * (np.sum(np.square(weights1)) + np.sum(np.square(weights2)))\n",
    "    y = np.log(y)\n",
    "    y = t * y\n",
    "    y = np.sum(y, 1)\n",
    "    y = np.sum(y, 0)\n",
    "    loss = y - regularization\n",
    "    return loss"
   ]
  },
  {
   "cell_type": "code",
   "execution_count": null,
   "metadata": {},
   "outputs": [],
   "source": []
  },
  {
   "cell_type": "code",
   "execution_count": 20,
   "metadata": {},
   "outputs": [],
   "source": [
    "def batch_generate(data, data_labels):\n",
    "    for idx in range(0, data.shape[0], batch_size):\n",
    "        input_b = data[idx:idx + batch_size]\n",
    "        labels_b = data_labels[idx:idx + batch_size]\n",
    "        yield input_b, labels_b"
   ]
  },
  {
   "cell_type": "markdown",
   "metadata": {},
   "source": [
    "### Training"
   ]
  },
  {
   "cell_type": "markdown",
   "metadata": {},
   "source": [
    "Weight_2 (Output layer weights) initialized as zeros and the the Weight_1 (Hidden layer weights) randomly with normal distribution(m = 0 and s = 1)"
   ]
  },
  {
   "cell_type": "code",
   "execution_count": 21,
   "metadata": {},
   "outputs": [],
   "source": [
    "def train():\n",
    "    \n",
    "    center = 0\n",
    "    s = np.sqrt(1 / (D + 1))\n",
    "\n",
    "    # Initialize the weights\n",
    "    weights_2 = np.zeros((K, M + 1))\n",
    "    weights_1 = np.random.normal(center, s, (M, D + 1))\n",
    "\n",
    "    for _ in tqdm(range(epochs)):\n",
    "        epoch_loss = []\n",
    "        iterator = batch_generate(X_train, y_train)\n",
    "        for batch in iterator:\n",
    "            \n",
    "            input_data = batch[0]\n",
    "            labels = batch[1]\n",
    "\n",
    "            ### forward pass \n",
    "            loss, output, hidden_layer_output = forward(input_data, labels, weights_1, weights_2)\n",
    "            epoch_loss.append(loss)\n",
    "\n",
    "            ### backward pass\n",
    "            grad_weights_1, grad_weights_2 = backward(labels,output,hidden_layer_output,weights_1, weights_2,input_data)\n",
    "\n",
    "            ### \n",
    "            weights_1 += lr * grad_weights_1\n",
    "            weights_2 += lr * grad_weights_2\n",
    "\n",
    "        print(\"Epoch average loss: \", sum(epoch_loss) / total_batches)\n",
    "    \n",
    "    return weights_1, weights_2 ,epoch_loss\n"
   ]
  },
  {
   "cell_type": "code",
   "execution_count": 22,
   "metadata": {},
   "outputs": [],
   "source": [
    "def test_batch():\n",
    "    # we do forward passes with the learned weights and we predict\n",
    "    iterator = tqdm(batch_yielder(X_test, y_test))\n",
    "    true = 0\n",
    "    total = 0\n",
    "    for batch in iterator:\n",
    "        input_data = batch[0]\n",
    "        labels = batch[1]\n",
    "\n",
    "        ### forward\n",
    "        output = forward_keep_activations(input_data, learned_weights_1, learned_weights_2)\n",
    "        predictions = np.argmax(output, 1)\n",
    "        labels = np.argmax(labels, 1)\n",
    "\n",
    "        for idx in range(labels.shape[0]):\n",
    "            if predictions[idx] == labels[idx]:\n",
    "                true += 1\n",
    "            total += 1\n",
    "\n",
    "    print(true)\n",
    "    print(total)\n",
    "    print(\"Accuracy on Test : {}/{} ... {}\".format(true, total, float(true / total)))"
   ]
  },
  {
   "cell_type": "code",
   "execution_count": 23,
   "metadata": {},
   "outputs": [],
   "source": [
    "def predict():\n",
    "    output = forward_keep_activations(X_test, learned_weights_1, learned_weights_2)\n",
    "    pred= np.argmax(output, 1)\n",
    "    accuracy = np.mean(pred == np.argmax(y_test, 1))\n",
    "    print('Accuracy on Test Data  : {}'.format(accuracy))\n",
    "    print(\"Writing to file: \")\n",
    "    faults = np.where(np.not_equal(np.argmax(y_test,1),pred))[0]\n",
    "    # plot n misclassified examples from the Test set\n",
    "    n = 25\n",
    "    samples = np.random.choice(faults, n)\n",
    "    sqrt_n = int( n ** 0.5 )\n",
    "\n",
    "    plt.figure( figsize=(11,13) )\n",
    "    \n",
    "    if (dataset=='MNIST'):\n",
    "        cnt = 0\n",
    "        for i in samples:\n",
    "            cnt += 1\n",
    "            plt.subplot( sqrt_n, sqrt_n, cnt )\n",
    "            plt.subplot( sqrt_n, sqrt_n, cnt ).axis('off')\n",
    "            plt.imshow( X_test[i,1:].reshape(28,28)*255, cmap='gray' )\n",
    "            plt.title(\"True: \"+str(np.argmax(y_test,1)[i])+ \"\\n Predicted: \"+ str(pred[i]))\n",
    "\n",
    "        plt.show()"
   ]
  },
  {
   "cell_type": "markdown",
   "metadata": {},
   "source": [
    "### Datasets"
   ]
  },
  {
   "cell_type": "markdown",
   "metadata": {},
   "source": [
    "#### Mnist Dataset"
   ]
  },
  {
   "cell_type": "markdown",
   "metadata": {},
   "source": [
    "In the data folder there is the dataset of mnist. Mnists consists of $28x28$ grayscale images. In total there are 10 training files\n",
    "train0.txt, train1.txt, ..., train9.txt where each rows of train$k$.txt corresponds to an example that belongs to the class $k$.\n",
    "\n",
    "The testing data follows the same format.\n",
    "\n",
    "In total we have $6*10^5$ training examples and $10^3$ testing examples"
   ]
  },
  {
   "cell_type": "code",
   "execution_count": 24,
   "metadata": {},
   "outputs": [],
   "source": [
    "def load_mnist_data():\n",
    "    train_files = ['train{}.txt'.format(i) for i in range(0, 10)]\n",
    "    test_files = ['test{}.txt'.format(i) for i in range(0, 10)]\n",
    "    print('Total train files: {}'.format(len(train_files)) + '\\n' + 'Total test files: {}'.format(len(test_files)))\n",
    "\n",
    "    data = []\n",
    "    for idx, file in enumerate(train_files):\n",
    "        with open(os.path.join(path, file), 'r') as train_file:\n",
    "            data += train_file.readlines()\n",
    "    train_data_tmp = np.array(np.array([[j for j in i.split(\" \")] for i in data], dtype='int') / 255)\n",
    "    print('Total training images with shape: ', train_data_tmp.shape)\n",
    "\n",
    "    data = []\n",
    "    for idx, file in enumerate(test_files):\n",
    "        with open(os.path.join(path, file), 'r') as test_file:\n",
    "            data += test_file.readlines()\n",
    "    test_data_tmp = np.array(np.array([[j for j in i.split(\" \")] for i in data], dtype='int') / 255)\n",
    "    print('Total testing images with shape: ', test_data_tmp.shape)\n",
    "\n",
    "    labels_data = []\n",
    "    for idx, file in enumerate(train_files):\n",
    "        with open(os.path.join(path, file), 'r') as train_file:\n",
    "            for _ in train_file:\n",
    "                labels_data.append([1 if i == idx else 0 for i in range(0, 10)])\n",
    "\n",
    "    train_labels_tmp = np.array(labels_data, dtype='int')\n",
    "    print('Total training labels: ', train_labels_tmp.shape)\n",
    "\n",
    "    labels_data = []\n",
    "    for idx, file in enumerate(test_files):\n",
    "        with open(os.path.join(path, file), 'r') as test_file:\n",
    "            for _ in test_file:\n",
    "                labels_data.append([1 if i == idx else 0 for i in range(0, 10)])\n",
    "\n",
    "    test_labels_tmp = np.array(labels_data, dtype='int')\n",
    "    print('Total testing labels: ', test_labels_tmp.shape)\n",
    "\n",
    "    return train_data_tmp, train_labels_tmp, test_data_tmp, test_labels_tmp"
   ]
  },
  {
   "cell_type": "markdown",
   "metadata": {},
   "source": [
    "#### Cifar-10 Dataset"
   ]
  },
  {
   "cell_type": "markdown",
   "metadata": {},
   "source": [
    "The CIFAR-10 dataset (Canadian Institute For Advanced Research) is a collection of images that are commonly used to train machine learning and computer vision algorithms. It is one of the most widely used datasets for machine learning research.[1][2] The CIFAR-10 dataset contains 60,000 32x32 color images in 10 different classes.[3] The 10 different classes represent airplanes, cars, birds, cats, deer, dogs, frogs, horses, ships, and trucks. There are 6,000 images of each class"
   ]
  },
  {
   "cell_type": "code",
   "execution_count": 25,
   "metadata": {},
   "outputs": [],
   "source": [
    "def load_cifar_10_data():\n",
    "    train_batches = ['data_batch_{}'.format(i) for i in range(1, 6)]\n",
    "    data = []\n",
    "    train_labels_tmp = np.zeros((50000, 10))\n",
    "\n",
    "    batch_dicts = []\n",
    "    for batch_name in train_batches:\n",
    "        batch_dicts.append(load_cifar_10_batch(batch_name))\n",
    "\n",
    "    img_idx = 0\n",
    "    for batch_dict in batch_dicts:\n",
    "        for img_data in batch_dict['data']:\n",
    "            data.append(img_data)\n",
    "\n",
    "        for img_label in batch_dict['labels']:\n",
    "            train_labels_tmp[img_idx][img_label] = 1\n",
    "            img_idx += 1\n",
    "\n",
    "    train_data_tmp = np.asarray(data)\n",
    "    train_data_tmp = train_data_tmp / 255\n",
    "\n",
    "    test_batch_dict = load_cifar_10_batch('test_batch', True)\n",
    "    data = []\n",
    "    test_labels_tmp = np.zeros((10000, 10))\n",
    "    for img in test_batch_dict['data']:\n",
    "        data.append(img)\n",
    "\n",
    "    img_idx = 0\n",
    "    for img_label in test_batch_dict['labels']:\n",
    "        test_labels_tmp[img_idx][img_label] = 1\n",
    "        img_idx += 1\n",
    "\n",
    "    test_data_tmp = np.asarray(data)\n",
    "    test_data_tmp = test_data_tmp / 255\n",
    "\n",
    "    print('Total training images with shape: ', train_data_tmp.shape)\n",
    "    print('Total testing images with shape: ', test_data_tmp.shape)\n",
    "    print('Total training labels: ', train_labels_tmp.shape)\n",
    "    print('Total test labels: ', test_labels_tmp.shape)\n",
    "\n",
    "    return train_data_tmp, train_labels_tmp, test_data_tmp, test_labels_tmp"
   ]
  },
  {
   "cell_type": "code",
   "execution_count": 26,
   "metadata": {},
   "outputs": [],
   "source": [
    "def load_cifar_10_batch(batch_name, test_bool=False):\n",
    "    #C:\\Users\\giann\\Desktop\\ergasia1\\\n",
    "    data_batch = cPickle.load(open(r'data\\cifar-10-batches-py/{}'.format(batch_name), 'rb'),\n",
    "                              encoding='latin1')\n",
    "\n",
    "    return data_batch"
   ]
  },
  {
   "cell_type": "markdown",
   "metadata": {},
   "source": [
    "### Visualizing the datasets"
   ]
  },
  {
   "cell_type": "code",
   "execution_count": 27,
   "metadata": {},
   "outputs": [],
   "source": [
    "def plot_mnist(image_data):\n",
    "    # plot 5 random images from the training set\n",
    "    n = 100\n",
    "    sqrt_n = int(n ** 0.5)\n",
    "    samples = np.random.randint(x_train.shape[0], size=n)\n",
    "\n",
    "    plt.figure(figsize=(11, 11))\n",
    "\n",
    "    cnt = 0\n",
    "    for i in samples:\n",
    "        cnt += 1\n",
    "        plt.subplot(sqrt_n, sqrt_n, cnt)\n",
    "        plt.subplot(sqrt_n, sqrt_n, cnt).axis('off')\n",
    "        plt.imshow(x_train[i].reshape(28, 28), cmap='gray')\n",
    "        \n",
    "    img = x_train[50000].reshape(28, 28)\n",
    "\n",
    "    fig = plt.figure(figsize = (12,12)) \n",
    "    ax = fig.add_subplot(111)\n",
    "    ax.imshow(img, cmap='gray')\n",
    "    width, height = img.shape\n",
    "    thresh = img.max()/2.5\n",
    "    for x in range(width):\n",
    "        for y in range(height):\n",
    "            val = round(img[x][y],2) if img[x][y] !=0 else 0\n",
    "            ax.annotate(str(val), xy=(y,x),\n",
    "                    horizontalalignment='center',\n",
    "                    verticalalignment='center',\n",
    "                    color='white' if img[x][y]<thresh else 'black')\n",
    "\n",
    "    plt.show()"
   ]
  },
  {
   "cell_type": "code",
   "execution_count": 28,
   "metadata": {},
   "outputs": [],
   "source": [
    "def plot_cifar(ind):\n",
    "    arr = x_train[ind]\n",
    "    R = arr[0:1024].reshape(32, 32)\n",
    "    G = arr[1024:2048].reshape(32, 32)\n",
    "    B = arr[2048:].reshape(32, 32)\n",
    "\n",
    "    img = np.dstack((R, G, B))\n",
    "    title = re.sub('[!@#$b]', '', str(labels_names[np.argmax(y_train[ind])]))\n",
    "    fig = plt.figure(figsize=(3, 3))\n",
    "    ax = fig.add_subplot(111)\n",
    "    ax.imshow(img, interpolation='bicubic')\n",
    "    ax.set_title('Category = ' + title, fontsize=15)\n",
    "    plt.show()"
   ]
  },
  {
   "cell_type": "markdown",
   "metadata": {},
   "source": [
    "## Gradient checking\n",
    "\n",
    "\n",
    "During gradient ascent/descent we compute the gradients $\\frac{\\partial E}{\\partial w}$, where $w$ denotes the parameters of the model.\n",
    "\n",
    "In order to make sure that these gradients are correct we will compare the exact gradients(that we have coded) with numerical estimates obtained by finite differences, you can use your code for computing $E$ to verify the code for computing $\\frac{\\partial E}{\\partial w}$.\n",
    "    Let's look back at the definition of a derivative (or gradient):\n",
    "    \n",
    "$$ \\frac{\\partial E}{\\partial w} = \\lim_{\\varepsilon \\to 0} \\frac{E(w + \\varepsilon) - E(w - \\varepsilon)}{2 \\varepsilon} \\tag{1}$$  \n",
    "\n",
    "We know the following: \n",
    "- $\\frac{\\partial E}{\\partial w}$ is what you want to make sure you're computing correctly. ,\n",
    "- You can compute $E(w + \\varepsilon)$ and $E(w - \\varepsilon)$ (in the case that $w$ is a real number), since you're confident your implementation for $E$ is correct.\n",
    "\n",
    "Let's use equation (1) and a small value ( around $10^-4$ or $10^-6$, much smaller values could lead to numerical issues )for $\\varepsilon$ to make sure that your code for computing  $\\frac{\\partial E}{\\partial w}$ is correct!"
   ]
  },
  {
   "cell_type": "code",
   "execution_count": 29,
   "metadata": {},
   "outputs": [],
   "source": [
    "def gradient_check():\n",
    "    epsilon = 1e-6\n",
    "\n",
    "    # create two random weight matrices\n",
    "    weights_1_tmp = np.random.rand(M, D + 1) * np.sqrt(1 / (D + 1 + M))\n",
    "    weights_2_tmp = np.random.rand(K, M + 1) * np.sqrt(1 / (M + 1 + K))\n",
    "\n",
    "    weights_1_tmp[:, 0] = 1.0\n",
    "    weights_2_tmp[:, 0] = 1.0\n",
    "\n",
    "    # create a fake train batch (of size 8)\n",
    "    b_size = 8\n",
    "    fake_input = X_train[:b_size]\n",
    "    fake_labels = y_train[:b_size]\n",
    "\n",
    "    # calculate gradients with backpropagation\n",
    "    loss, output, hidden_layer_output = forward(fake_input, fake_labels, weights_1_tmp, weights_2_tmp)\n",
    "    grad_weights_1, grad_weights_2 = backward(fake_labels,\n",
    "                                              output,\n",
    "                                              hidden_layer_output,\n",
    "                                              weights_1_tmp,\n",
    "                                              weights_2_tmp,\n",
    "                                              fake_input)\n",
    "\n",
    "    # calculate gradients with two-sided epsilon method\n",
    "    grad_check_for_w1 = np.zeros((M, D + 1))\n",
    "    for i in tqdm(range(grad_check_for_w1.shape[0])):\n",
    "        for j in range(grad_check_for_w1.shape[1]):\n",
    "            w1 = np.copy(weights_1_tmp)\n",
    "            w1[i, j] += epsilon\n",
    "            e1, _, _ = forward(fake_input, fake_labels, w1, weights_2_tmp)\n",
    "\n",
    "            w1 = np.copy(weights_1_tmp)\n",
    "            w1[i, j] -= epsilon\n",
    "            e2, _, _ = forward(fake_input, fake_labels, w1, weights_2_tmp)\n",
    "\n",
    "            grad_check_for_w1[i, j] = (e1 - e2) / (2 * epsilon)\n",
    "\n",
    "    # compute the difference for w1\n",
    "    # it is the Euclidean distance normalized by the sum of the norms\n",
    "    numerator = np.linalg.norm(grad_weights_1 - grad_check_for_w1)\n",
    "    denominator = np.linalg.norm(grad_check_for_w1) + np.linalg.norm(grad_weights_1)\n",
    "    difference = numerator / denominator\n",
    "    print('The difference for weights_1 is: {}'.format(difference))\n",
    "\n",
    "    grad_check_for_w2 = np.zeros((K, M + 1))\n",
    "    for i in tqdm(range(grad_check_for_w2.shape[0])):\n",
    "        for j in range(grad_check_for_w2.shape[1]):\n",
    "            w2 = np.copy(weights_2_tmp)\n",
    "            w2[i, j] += epsilon\n",
    "            e1, _, _ = forward(fake_input, fake_labels, weights_1_tmp, w2)\n",
    "\n",
    "            w2 = np.copy(weights_2_tmp)\n",
    "            w2[i, j] -= epsilon\n",
    "            e2, _, _ = forward(fake_input, fake_labels, weights_1_tmp, w2)\n",
    "\n",
    "            grad_check_for_w2[i, j] = (e1 - e2) / (2 * epsilon)\n",
    "\n",
    "    # compute the difference for w2\n",
    "    # it is the Euclidean distance normalized by the sum of the norms\n",
    "    numerator = np.linalg.norm(grad_weights_2 - grad_check_for_w2)\n",
    "    denominator = np.linalg.norm(grad_check_for_w2) + np.linalg.norm(grad_weights_2)\n",
    "    difference = numerator / denominator\n",
    "    print('The difference for weights_2 is: {}'.format(difference))"
   ]
  },
  {
   "cell_type": "markdown",
   "metadata": {},
   "source": [
    "### Selecting dataset "
   ]
  },
  {
   "cell_type": "code",
   "execution_count": 30,
   "metadata": {},
   "outputs": [
    {
     "name": "stdin",
     "output_type": "stream",
     "text": [
      "Type \"MNIST\" for the mnist dataset, \"CIFAR\" or something else otherwise MNIST\n"
     ]
    }
   ],
   "source": [
    "dataset = input('Type \"MNIST\" for the mnist dataset, \"CIFAR\" or something else otherwise')"
   ]
  },
  {
   "cell_type": "code",
   "execution_count": 31,
   "metadata": {},
   "outputs": [
    {
     "name": "stdout",
     "output_type": "stream",
     "text": [
      "Total train files: 10\n",
      "Total test files: 10\n",
      "Total training images with shape:  (60000, 784)\n",
      "Total testing images with shape:  (10000, 784)\n",
      "Total training labels:  (60000, 10)\n",
      "Total testing labels:  (10000, 10)\n"
     ]
    },
    {
     "name": "stderr",
     "output_type": "stream",
     "text": [
      "D:\\Anaconda\\lib\\site-packages\\ipykernel_launcher.py:13: MatplotlibDeprecationWarning: Adding an axes using the same arguments as a previous axes currently reuses the earlier instance.  In a future version, a new instance will always be created and returned.  Meanwhile, this warning can be suppressed, and the future behavior ensured, by passing a unique label to each axes instance.\n",
      "  del sys.path[0]\n"
     ]
    },
    {
     "data": {
      "image/png": "[encoded data removed]",
      "text/plain": [
       "<Figure size 792x792 with 100 Axes>"
      ]
     },
     "metadata": {
      "needs_background": "light"
     },
     "output_type": "display_data"
    },
    {
     "data": {
      "image/png": "[encoded data removed]",
      "text/plain": [
       "<Figure size 864x864 with 1 Axes>"
      ]
     },
     "metadata": {
      "needs_background": "light"
     },
     "output_type": "display_data"
    }
   ],
   "source": [
    "#dataset = 'MNIST'\n",
    "\n",
    "if dataset == 'MNIST':\n",
    "    #C:\\Users\\giann\\Desktop\\ergasia1\\\n",
    "    path = r'data\\mnist'\n",
    "    x_train, y_train, x_test, y_test = load_mnist_data()\n",
    "    plot_mnist(x_train)\n",
    "else:\n",
    "    #C:\\Users\\giann\\Desktop\\ergasia1\\\n",
    "    path = r'data\\cifar-10-batches-py'\n",
    "    #C:\\Users\\giann\\Desktop\\ergasia1\\\n",
    "    labels_dict = cPickle.load(open(r'data\\cifar-10-batches-py/{}'.format('batches.meta'), 'rb'))\n",
    "    labels_names = labels_dict['label_names']\n",
    "    x_train, y_train, x_test, y_test = load_cifar_10_data()\n",
    "\n",
    "    # plot a random sample from the train set\n",
    "\n",
    "    ind = np.random.randint(0, 50000)\n",
    "    plot_cifar(ind)\n"
   ]
  },
  {
   "cell_type": "code",
   "execution_count": null,
   "metadata": {},
   "outputs": [],
   "source": []
  },
  {
   "cell_type": "code",
   "execution_count": 67,
   "metadata": {},
   "outputs": [
    {
     "name": "stdout",
     "output_type": "stream",
     "text": [
      "784\n"
     ]
    },
    {
     "name": "stdin",
     "output_type": "stream",
     "text": [
      "Type \"tanh\" or \"cos\" or \"softplus\"  tanh\n"
     ]
    }
   ],
   "source": [
    "batch_size = 100\n",
    "epochs = 100\n",
    "lr = 0.0007\n",
    "lamda = 0.01\n",
    "M = 100\n",
    "D = x_train.shape[1]\n",
    "print(D)\n",
    "K = 10\n",
    "\n",
    "\n",
    "inp = input('Type \"tanh\" or \"cos\" or \"softplus\" ')\n",
    "\n",
    "if (inp == tanh):\n",
    "    non_linearity = tanh\n",
    "    derivative_function = derivative_tanh\n",
    "elif (inp == cos):\n",
    "    non_linearity = cos\n",
    "    derivative_function = derivative_cos\n",
    "else:\n",
    "    non_linearity = softplus\n",
    "    derivative_function = derivative_softplus"
   ]
  },
  {
   "cell_type": "markdown",
   "metadata": {},
   "source": [
    "### Data Preparation"
   ]
  },
  {
   "cell_type": "code",
   "execution_count": 33,
   "metadata": {},
   "outputs": [],
   "source": [
    "X_train = np.ones((x_train.shape[0], x_train.shape[1] + 1), dtype=float)\n",
    "X_train[:, 1:] = x_train\n",
    "\n",
    "X_test = np.ones((x_test.shape[0], x_test.shape[1] + 1), dtype=float)\n",
    "X_test[:, 1:] = x_test"
   ]
  },
  {
   "cell_type": "markdown",
   "metadata": {},
   "source": [
    "### Data Shuffling"
   ]
  },
  {
   "cell_type": "code",
   "execution_count": 34,
   "metadata": {},
   "outputs": [],
   "source": [
    "idx_list = [i for i in range(y_train.shape[0])]\n",
    "shuffle(idx_list)\n",
    "X_train = X_train[idx_list]\n",
    "y_train = y_train[idx_list]\n",
    "total_batches = X_train.shape[0] // batch_size\n",
    "\n",
    "# we must also shuffle the test data\n",
    "idx_list = [i for i in range(y_test.shape[0])]\n",
    "shuffle(idx_list)\n",
    "X_test = X_test[idx_list]\n",
    "y_test = y_test[idx_list]\n",
    "\n",
    "\n"
   ]
  },
  {
   "cell_type": "markdown",
   "metadata": {},
   "source": [
    "### Gradient Checking and Training "
   ]
  },
  {
   "cell_type": "code",
   "execution_count": 68,
   "metadata": {},
   "outputs": [
    {
     "name": "stderr",
     "output_type": "stream",
     "text": [
      "  0%|          | 0/100 [00:00<?, ?it/s]"
     ]
    },
    {
     "name": "stdout",
     "output_type": "stream",
     "text": [
      "--- Gradient Checking ---\n"
     ]
    },
    {
     "name": "stderr",
     "output_type": "stream",
     "text": [
      "  1%|          | 1/100 [00:01<01:52,  1.14s/it]"
     ]
    },
    {
     "name": "stdout",
     "output_type": "stream",
     "text": [
      "Epoch average loss:  -86.12038218213468\n"
     ]
    },
    {
     "name": "stderr",
     "output_type": "stream",
     "text": [
      "  2%|▏         | 2/100 [00:02<01:50,  1.13s/it]"
     ]
    },
    {
     "name": "stdout",
     "output_type": "stream",
     "text": [
      "Epoch average loss:  -35.89438683903743\n"
     ]
    },
    {
     "name": "stderr",
     "output_type": "stream",
     "text": [
      "  3%|▎         | 3/100 [00:03<01:50,  1.14s/it]"
     ]
    },
    {
     "name": "stdout",
     "output_type": "stream",
     "text": [
      "Epoch average loss:  -32.081628068621555\n"
     ]
    },
    {
     "name": "stderr",
     "output_type": "stream",
     "text": [
      "  4%|▍         | 4/100 [00:04<01:53,  1.18s/it]"
     ]
    },
    {
     "name": "stdout",
     "output_type": "stream",
     "text": [
      "Epoch average loss:  -30.0023140270282\n"
     ]
    },
    {
     "name": "stderr",
     "output_type": "stream",
     "text": [
      "  5%|▌         | 5/100 [00:05<01:51,  1.17s/it]"
     ]
    },
    {
     "name": "stdout",
     "output_type": "stream",
     "text": [
      "Epoch average loss:  -28.23374584861484\n"
     ]
    },
    {
     "name": "stderr",
     "output_type": "stream",
     "text": [
      "  6%|▌         | 6/100 [00:06<01:47,  1.14s/it]"
     ]
    },
    {
     "name": "stdout",
     "output_type": "stream",
     "text": [
      "Epoch average loss:  -26.50908939412528\n"
     ]
    },
    {
     "name": "stderr",
     "output_type": "stream",
     "text": [
      "  7%|▋         | 7/100 [00:07<01:42,  1.10s/it]"
     ]
    },
    {
     "name": "stdout",
     "output_type": "stream",
     "text": [
      "Epoch average loss:  -24.85318431968152\n"
     ]
    },
    {
     "name": "stderr",
     "output_type": "stream",
     "text": [
      "  8%|▊         | 8/100 [00:09<01:41,  1.10s/it]"
     ]
    },
    {
     "name": "stdout",
     "output_type": "stream",
     "text": [
      "Epoch average loss:  -23.33353604951832\n"
     ]
    },
    {
     "name": "stderr",
     "output_type": "stream",
     "text": [
      "  9%|▉         | 9/100 [00:09<01:36,  1.06s/it]"
     ]
    },
    {
     "name": "stdout",
     "output_type": "stream",
     "text": [
      "Epoch average loss:  -21.96735331596027\n"
     ]
    },
    {
     "name": "stderr",
     "output_type": "stream",
     "text": [
      " 10%|█         | 10/100 [00:11<01:34,  1.05s/it]"
     ]
    },
    {
     "name": "stdout",
     "output_type": "stream",
     "text": [
      "Epoch average loss:  -20.741936592704857\n"
     ]
    },
    {
     "name": "stderr",
     "output_type": "stream",
     "text": [
      " 11%|█         | 11/100 [00:12<01:32,  1.04s/it]"
     ]
    },
    {
     "name": "stdout",
     "output_type": "stream",
     "text": [
      "Epoch average loss:  -19.641578691178243\n"
     ]
    },
    {
     "name": "stderr",
     "output_type": "stream",
     "text": [
      " 12%|█▏        | 12/100 [00:13<01:30,  1.03s/it]"
     ]
    },
    {
     "name": "stdout",
     "output_type": "stream",
     "text": [
      "Epoch average loss:  -18.654239386426294\n"
     ]
    },
    {
     "name": "stderr",
     "output_type": "stream",
     "text": [
      " 13%|█▎        | 13/100 [00:14<01:28,  1.02s/it]"
     ]
    },
    {
     "name": "stdout",
     "output_type": "stream",
     "text": [
      "Epoch average loss:  -17.769439842993577\n"
     ]
    },
    {
     "name": "stderr",
     "output_type": "stream",
     "text": [
      " 14%|█▍        | 14/100 [00:15<01:29,  1.04s/it]"
     ]
    },
    {
     "name": "stdout",
     "output_type": "stream",
     "text": [
      "Epoch average loss:  -16.976293261934867\n"
     ]
    },
    {
     "name": "stderr",
     "output_type": "stream",
     "text": [
      " 15%|█▌        | 15/100 [00:16<01:28,  1.04s/it]"
     ]
    },
    {
     "name": "stdout",
     "output_type": "stream",
     "text": [
      "Epoch average loss:  -16.26373370472401\n"
     ]
    },
    {
     "name": "stderr",
     "output_type": "stream",
     "text": [
      " 16%|█▌        | 16/100 [00:17<01:26,  1.03s/it]"
     ]
    },
    {
     "name": "stdout",
     "output_type": "stream",
     "text": [
      "Epoch average loss:  -15.62154931070619\n"
     ]
    },
    {
     "name": "stderr",
     "output_type": "stream",
     "text": [
      " 17%|█▋        | 17/100 [00:18<01:25,  1.02s/it]"
     ]
    },
    {
     "name": "stdout",
     "output_type": "stream",
     "text": [
      "Epoch average loss:  -15.040817976905588\n"
     ]
    },
    {
     "name": "stderr",
     "output_type": "stream",
     "text": [
      " 18%|█▊        | 18/100 [00:19<01:24,  1.03s/it]"
     ]
    },
    {
     "name": "stdout",
     "output_type": "stream",
     "text": [
      "Epoch average loss:  -14.513788342610997\n"
     ]
    },
    {
     "name": "stderr",
     "output_type": "stream",
     "text": [
      " 19%|█▉        | 19/100 [00:20<01:27,  1.08s/it]"
     ]
    },
    {
     "name": "stdout",
     "output_type": "stream",
     "text": [
      "Epoch average loss:  -14.033660121983663\n"
     ]
    },
    {
     "name": "stderr",
     "output_type": "stream",
     "text": [
      " 20%|██        | 20/100 [00:21<01:27,  1.10s/it]"
     ]
    },
    {
     "name": "stdout",
     "output_type": "stream",
     "text": [
      "Epoch average loss:  -13.594443470738247\n"
     ]
    },
    {
     "name": "stderr",
     "output_type": "stream",
     "text": [
      " 21%|██        | 21/100 [00:22<01:24,  1.07s/it]"
     ]
    },
    {
     "name": "stdout",
     "output_type": "stream",
     "text": [
      "Epoch average loss:  -13.190891311561499\n"
     ]
    },
    {
     "name": "stderr",
     "output_type": "stream",
     "text": [
      " 22%|██▏       | 22/100 [00:23<01:21,  1.05s/it]"
     ]
    },
    {
     "name": "stdout",
     "output_type": "stream",
     "text": [
      "Epoch average loss:  -12.818458062466322\n"
     ]
    },
    {
     "name": "stderr",
     "output_type": "stream",
     "text": [
      " 23%|██▎       | 23/100 [00:24<01:19,  1.04s/it]"
     ]
    },
    {
     "name": "stdout",
     "output_type": "stream",
     "text": [
      "Epoch average loss:  -12.473254222135575\n"
     ]
    },
    {
     "name": "stderr",
     "output_type": "stream",
     "text": [
      " 24%|██▍       | 24/100 [00:25<01:21,  1.07s/it]"
     ]
    },
    {
     "name": "stdout",
     "output_type": "stream",
     "text": [
      "Epoch average loss:  -12.151988706605332\n"
     ]
    },
    {
     "name": "stderr",
     "output_type": "stream",
     "text": [
      " 25%|██▌       | 25/100 [00:26<01:19,  1.07s/it]"
     ]
    },
    {
     "name": "stdout",
     "output_type": "stream",
     "text": [
      "Epoch average loss:  -11.851900620930008\n"
     ]
    },
    {
     "name": "stderr",
     "output_type": "stream",
     "text": [
      " 26%|██▌       | 26/100 [00:27<01:19,  1.07s/it]"
     ]
    },
    {
     "name": "stdout",
     "output_type": "stream",
     "text": [
      "Epoch average loss:  -11.57068475016441\n"
     ]
    },
    {
     "name": "stderr",
     "output_type": "stream",
     "text": [
      " 27%|██▋       | 27/100 [00:29<01:21,  1.12s/it]"
     ]
    },
    {
     "name": "stdout",
     "output_type": "stream",
     "text": [
      "Epoch average loss:  -11.30641600524484\n"
     ]
    },
    {
     "name": "stderr",
     "output_type": "stream",
     "text": [
      " 28%|██▊       | 28/100 [00:30<01:18,  1.10s/it]"
     ]
    },
    {
     "name": "stdout",
     "output_type": "stream",
     "text": [
      "Epoch average loss:  -11.057477982911422\n"
     ]
    },
    {
     "name": "stderr",
     "output_type": "stream",
     "text": [
      " 29%|██▉       | 29/100 [00:31<01:17,  1.09s/it]"
     ]
    },
    {
     "name": "stdout",
     "output_type": "stream",
     "text": [
      "Epoch average loss:  -10.822500200610541\n"
     ]
    },
    {
     "name": "stderr",
     "output_type": "stream",
     "text": [
      " 30%|███       | 30/100 [00:32<01:18,  1.12s/it]"
     ]
    },
    {
     "name": "stdout",
     "output_type": "stream",
     "text": [
      "Epoch average loss:  -10.600307190088705\n"
     ]
    },
    {
     "name": "stderr",
     "output_type": "stream",
     "text": [
      " 31%|███       | 31/100 [00:33<01:18,  1.14s/it]"
     ]
    },
    {
     "name": "stdout",
     "output_type": "stream",
     "text": [
      "Epoch average loss:  -10.38987986867233\n"
     ]
    },
    {
     "name": "stderr",
     "output_type": "stream",
     "text": [
      " 32%|███▏      | 32/100 [00:34<01:16,  1.13s/it]"
     ]
    },
    {
     "name": "stdout",
     "output_type": "stream",
     "text": [
      "Epoch average loss:  -10.19032676048407\n"
     ]
    },
    {
     "name": "stderr",
     "output_type": "stream",
     "text": [
      " 33%|███▎      | 33/100 [00:35<01:19,  1.18s/it]"
     ]
    },
    {
     "name": "stdout",
     "output_type": "stream",
     "text": [
      "Epoch average loss:  -10.000861729785997\n"
     ]
    },
    {
     "name": "stderr",
     "output_type": "stream",
     "text": [
      " 34%|███▍      | 34/100 [00:37<01:19,  1.20s/it]"
     ]
    },
    {
     "name": "stdout",
     "output_type": "stream",
     "text": [
      "Epoch average loss:  -9.820785845925014\n"
     ]
    },
    {
     "name": "stderr",
     "output_type": "stream",
     "text": [
      " 35%|███▌      | 35/100 [00:38<01:15,  1.16s/it]"
     ]
    },
    {
     "name": "stdout",
     "output_type": "stream",
     "text": [
      "Epoch average loss:  -9.649472280895392\n"
     ]
    },
    {
     "name": "stderr",
     "output_type": "stream",
     "text": [
      " 36%|███▌      | 36/100 [00:39<01:18,  1.22s/it]"
     ]
    },
    {
     "name": "stdout",
     "output_type": "stream",
     "text": [
      "Epoch average loss:  -9.486353835947314\n"
     ]
    },
    {
     "name": "stderr",
     "output_type": "stream",
     "text": [
      " 37%|███▋      | 37/100 [00:40<01:16,  1.21s/it]"
     ]
    },
    {
     "name": "stdout",
     "output_type": "stream",
     "text": [
      "Epoch average loss:  -9.330912868953233\n"
     ]
    },
    {
     "name": "stderr",
     "output_type": "stream",
     "text": [
      " 38%|███▊      | 38/100 [00:41<01:13,  1.18s/it]"
     ]
    },
    {
     "name": "stdout",
     "output_type": "stream",
     "text": [
      "Epoch average loss:  -9.182673376193526\n"
     ]
    },
    {
     "name": "stderr",
     "output_type": "stream",
     "text": [
      " 39%|███▉      | 39/100 [00:43<01:09,  1.14s/it]"
     ]
    },
    {
     "name": "stdout",
     "output_type": "stream",
     "text": [
      "Epoch average loss:  -9.041194941373009\n"
     ]
    },
    {
     "name": "stderr",
     "output_type": "stream",
     "text": [
      " 40%|████      | 40/100 [00:44<01:06,  1.11s/it]"
     ]
    },
    {
     "name": "stdout",
     "output_type": "stream",
     "text": [
      "Epoch average loss:  -8.906068229435924\n"
     ]
    },
    {
     "name": "stderr",
     "output_type": "stream",
     "text": [
      " 41%|████      | 41/100 [00:45<01:04,  1.09s/it]"
     ]
    },
    {
     "name": "stdout",
     "output_type": "stream",
     "text": [
      "Epoch average loss:  -8.776911681243604\n"
     ]
    },
    {
     "name": "stderr",
     "output_type": "stream",
     "text": [
      " 42%|████▏     | 42/100 [00:46<01:00,  1.05s/it]"
     ]
    },
    {
     "name": "stdout",
     "output_type": "stream",
     "text": [
      "Epoch average loss:  -8.653369080348261\n"
     ]
    },
    {
     "name": "stderr",
     "output_type": "stream",
     "text": [
      " 43%|████▎     | 43/100 [00:47<00:59,  1.05s/it]"
     ]
    },
    {
     "name": "stdout",
     "output_type": "stream",
     "text": [
      "Epoch average loss:  -8.535107720271396\n"
     ]
    },
    {
     "name": "stderr",
     "output_type": "stream",
     "text": [
      " 44%|████▍     | 44/100 [00:48<01:00,  1.07s/it]"
     ]
    },
    {
     "name": "stdout",
     "output_type": "stream",
     "text": [
      "Epoch average loss:  -8.421816975399299\n"
     ]
    },
    {
     "name": "stderr",
     "output_type": "stream",
     "text": [
      " 45%|████▌     | 45/100 [00:49<00:57,  1.05s/it]"
     ]
    },
    {
     "name": "stdout",
     "output_type": "stream",
     "text": [
      "Epoch average loss:  -8.31320714008556\n"
     ]
    },
    {
     "name": "stderr",
     "output_type": "stream",
     "text": [
      " 46%|████▌     | 46/100 [00:50<00:56,  1.05s/it]"
     ]
    },
    {
     "name": "stdout",
     "output_type": "stream",
     "text": [
      "Epoch average loss:  -8.209008435079893\n"
     ]
    },
    {
     "name": "stderr",
     "output_type": "stream",
     "text": [
      " 47%|████▋     | 47/100 [00:51<00:56,  1.07s/it]"
     ]
    },
    {
     "name": "stdout",
     "output_type": "stream",
     "text": [
      "Epoch average loss:  -8.108970094260973\n"
     ]
    },
    {
     "name": "stderr",
     "output_type": "stream",
     "text": [
      " 48%|████▊     | 48/100 [00:52<00:58,  1.13s/it]"
     ]
    },
    {
     "name": "stdout",
     "output_type": "stream",
     "text": [
      "Epoch average loss:  -8.012859452133643\n"
     ]
    },
    {
     "name": "stderr",
     "output_type": "stream",
     "text": [
      " 49%|████▉     | 49/100 [00:53<00:58,  1.15s/it]"
     ]
    },
    {
     "name": "stdout",
     "output_type": "stream",
     "text": [
      "Epoch average loss:  -7.920460963292644\n"
     ]
    },
    {
     "name": "stderr",
     "output_type": "stream",
     "text": [
      " 50%|█████     | 50/100 [00:55<00:57,  1.15s/it]"
     ]
    },
    {
     "name": "stdout",
     "output_type": "stream",
     "text": [
      "Epoch average loss:  -7.831575101258988\n"
     ]
    },
    {
     "name": "stderr",
     "output_type": "stream",
     "text": [
      " 51%|█████     | 51/100 [00:56<00:54,  1.12s/it]"
     ]
    },
    {
     "name": "stdout",
     "output_type": "stream",
     "text": [
      "Epoch average loss:  -7.746017106984025\n"
     ]
    },
    {
     "name": "stderr",
     "output_type": "stream",
     "text": [
      " 52%|█████▏    | 52/100 [00:57<00:52,  1.09s/it]"
     ]
    },
    {
     "name": "stdout",
     "output_type": "stream",
     "text": [
      "Epoch average loss:  -7.663615592651324\n"
     ]
    },
    {
     "name": "stderr",
     "output_type": "stream",
     "text": [
      " 53%|█████▎    | 53/100 [00:58<00:51,  1.09s/it]"
     ]
    },
    {
     "name": "stdout",
     "output_type": "stream",
     "text": [
      "Epoch average loss:  -7.584211058878418\n"
     ]
    },
    {
     "name": "stderr",
     "output_type": "stream",
     "text": [
      " 54%|█████▍    | 54/100 [00:59<00:49,  1.08s/it]"
     ]
    },
    {
     "name": "stdout",
     "output_type": "stream",
     "text": [
      "Epoch average loss:  -7.507654441405454\n"
     ]
    },
    {
     "name": "stderr",
     "output_type": "stream",
     "text": [
      " 55%|█████▌    | 55/100 [01:00<00:48,  1.08s/it]"
     ]
    },
    {
     "name": "stdout",
     "output_type": "stream",
     "text": [
      "Epoch average loss:  -7.433805833104421\n"
     ]
    },
    {
     "name": "stderr",
     "output_type": "stream",
     "text": [
      " 56%|█████▌    | 56/100 [01:01<00:47,  1.07s/it]"
     ]
    },
    {
     "name": "stdout",
     "output_type": "stream",
     "text": [
      "Epoch average loss:  -7.362533496092692\n"
     ]
    },
    {
     "name": "stderr",
     "output_type": "stream",
     "text": [
      " 57%|█████▋    | 57/100 [01:02<00:45,  1.06s/it]"
     ]
    },
    {
     "name": "stdout",
     "output_type": "stream",
     "text": [
      "Epoch average loss:  -7.293713192707117\n"
     ]
    },
    {
     "name": "stderr",
     "output_type": "stream",
     "text": [
      " 58%|█████▊    | 58/100 [01:03<00:44,  1.05s/it]"
     ]
    },
    {
     "name": "stdout",
     "output_type": "stream",
     "text": [
      "Epoch average loss:  -7.22722777187348\n"
     ]
    },
    {
     "name": "stderr",
     "output_type": "stream",
     "text": [
      " 59%|█████▉    | 59/100 [01:04<00:44,  1.08s/it]"
     ]
    },
    {
     "name": "stdout",
     "output_type": "stream",
     "text": [
      "Epoch average loss:  -7.162966899401622\n"
     ]
    },
    {
     "name": "stderr",
     "output_type": "stream",
     "text": [
      " 60%|██████    | 60/100 [01:05<00:42,  1.07s/it]"
     ]
    },
    {
     "name": "stdout",
     "output_type": "stream",
     "text": [
      "Epoch average loss:  -7.100826828798369\n"
     ]
    },
    {
     "name": "stderr",
     "output_type": "stream",
     "text": [
      " 61%|██████    | 61/100 [01:06<00:43,  1.11s/it]"
     ]
    },
    {
     "name": "stdout",
     "output_type": "stream",
     "text": [
      "Epoch average loss:  -7.0407101490856725\n"
     ]
    },
    {
     "name": "stderr",
     "output_type": "stream",
     "text": [
      " 62%|██████▏   | 62/100 [01:08<00:44,  1.17s/it]"
     ]
    },
    {
     "name": "stdout",
     "output_type": "stream",
     "text": [
      "Epoch average loss:  -6.982525487367889\n"
     ]
    },
    {
     "name": "stderr",
     "output_type": "stream",
     "text": [
      " 63%|██████▎   | 63/100 [01:09<00:45,  1.24s/it]"
     ]
    },
    {
     "name": "stdout",
     "output_type": "stream",
     "text": [
      "Epoch average loss:  -6.926187170519646\n"
     ]
    },
    {
     "name": "stderr",
     "output_type": "stream",
     "text": [
      " 64%|██████▍   | 64/100 [01:10<00:44,  1.22s/it]"
     ]
    },
    {
     "name": "stdout",
     "output_type": "stream",
     "text": [
      "Epoch average loss:  -6.871614861409386\n"
     ]
    },
    {
     "name": "stderr",
     "output_type": "stream",
     "text": [
      " 65%|██████▌   | 65/100 [01:11<00:40,  1.17s/it]"
     ]
    },
    {
     "name": "stdout",
     "output_type": "stream",
     "text": [
      "Epoch average loss:  -6.818733186192303\n"
     ]
    },
    {
     "name": "stderr",
     "output_type": "stream",
     "text": [
      " 66%|██████▌   | 66/100 [01:12<00:38,  1.12s/it]"
     ]
    },
    {
     "name": "stdout",
     "output_type": "stream",
     "text": [
      "Epoch average loss:  -6.767471366092701\n"
     ]
    },
    {
     "name": "stderr",
     "output_type": "stream",
     "text": [
      " 67%|██████▋   | 67/100 [01:13<00:36,  1.11s/it]"
     ]
    },
    {
     "name": "stdout",
     "output_type": "stream",
     "text": [
      "Epoch average loss:  -6.717762863175357\n"
     ]
    },
    {
     "name": "stderr",
     "output_type": "stream",
     "text": [
      " 68%|██████▊   | 68/100 [01:14<00:35,  1.11s/it]"
     ]
    },
    {
     "name": "stdout",
     "output_type": "stream",
     "text": [
      "Epoch average loss:  -6.669545046273141\n"
     ]
    },
    {
     "name": "stderr",
     "output_type": "stream",
     "text": [
      " 69%|██████▉   | 69/100 [01:15<00:33,  1.07s/it]"
     ]
    },
    {
     "name": "stdout",
     "output_type": "stream",
     "text": [
      "Epoch average loss:  -6.622758880733493\n"
     ]
    },
    {
     "name": "stderr",
     "output_type": "stream",
     "text": [
      " 70%|███████   | 70/100 [01:16<00:31,  1.07s/it]"
     ]
    },
    {
     "name": "stdout",
     "output_type": "stream",
     "text": [
      "Epoch average loss:  -6.577348643779512\n"
     ]
    },
    {
     "name": "stderr",
     "output_type": "stream",
     "text": [
      " 71%|███████   | 71/100 [01:17<00:30,  1.05s/it]"
     ]
    },
    {
     "name": "stdout",
     "output_type": "stream",
     "text": [
      "Epoch average loss:  -6.533261665825768\n"
     ]
    },
    {
     "name": "stderr",
     "output_type": "stream",
     "text": [
      " 72%|███████▏  | 72/100 [01:18<00:28,  1.03s/it]"
     ]
    },
    {
     "name": "stdout",
     "output_type": "stream",
     "text": [
      "Epoch average loss:  -6.490448096928155\n"
     ]
    },
    {
     "name": "stderr",
     "output_type": "stream",
     "text": [
      " 73%|███████▎  | 73/100 [01:20<00:27,  1.03s/it]"
     ]
    },
    {
     "name": "stdout",
     "output_type": "stream",
     "text": [
      "Epoch average loss:  -6.448860696669342\n"
     ]
    },
    {
     "name": "stderr",
     "output_type": "stream",
     "text": [
      " 74%|███████▍  | 74/100 [01:21<00:26,  1.03s/it]"
     ]
    },
    {
     "name": "stdout",
     "output_type": "stream",
     "text": [
      "Epoch average loss:  -6.408454645219153\n"
     ]
    },
    {
     "name": "stderr",
     "output_type": "stream",
     "text": [
      " 75%|███████▌  | 75/100 [01:22<00:26,  1.06s/it]"
     ]
    },
    {
     "name": "stdout",
     "output_type": "stream",
     "text": [
      "Epoch average loss:  -6.369187373072698\n"
     ]
    },
    {
     "name": "stderr",
     "output_type": "stream",
     "text": [
      " 76%|███████▌  | 76/100 [01:23<00:25,  1.05s/it]"
     ]
    },
    {
     "name": "stdout",
     "output_type": "stream",
     "text": [
      "Epoch average loss:  -6.331018407019604\n"
     ]
    },
    {
     "name": "stderr",
     "output_type": "stream",
     "text": [
      " 77%|███████▋  | 77/100 [01:24<00:25,  1.09s/it]"
     ]
    },
    {
     "name": "stdout",
     "output_type": "stream",
     "text": [
      "Epoch average loss:  -6.293909230147267\n"
     ]
    },
    {
     "name": "stderr",
     "output_type": "stream",
     "text": [
      " 78%|███████▊  | 78/100 [01:25<00:24,  1.12s/it]"
     ]
    },
    {
     "name": "stdout",
     "output_type": "stream",
     "text": [
      "Epoch average loss:  -6.257823154023526\n"
     ]
    },
    {
     "name": "stderr",
     "output_type": "stream",
     "text": [
      " 79%|███████▉  | 79/100 [01:27<00:25,  1.23s/it]"
     ]
    },
    {
     "name": "stdout",
     "output_type": "stream",
     "text": [
      "Epoch average loss:  -6.222725201541821\n"
     ]
    },
    {
     "name": "stderr",
     "output_type": "stream",
     "text": [
      " 80%|████████  | 80/100 [01:28<00:24,  1.21s/it]"
     ]
    },
    {
     "name": "stdout",
     "output_type": "stream",
     "text": [
      "Epoch average loss:  -6.188581999181968\n"
     ]
    },
    {
     "name": "stderr",
     "output_type": "stream",
     "text": [
      " 81%|████████  | 81/100 [01:29<00:23,  1.24s/it]"
     ]
    },
    {
     "name": "stdout",
     "output_type": "stream",
     "text": [
      "Epoch average loss:  -6.155361677617678\n"
     ]
    },
    {
     "name": "stderr",
     "output_type": "stream",
     "text": [
      " 82%|████████▏ | 82/100 [01:30<00:21,  1.18s/it]"
     ]
    },
    {
     "name": "stdout",
     "output_type": "stream",
     "text": [
      "Epoch average loss:  -6.123033779696572\n"
     ]
    },
    {
     "name": "stderr",
     "output_type": "stream",
     "text": [
      " 83%|████████▎ | 83/100 [01:31<00:19,  1.17s/it]"
     ]
    },
    {
     "name": "stdout",
     "output_type": "stream",
     "text": [
      "Epoch average loss:  -6.09156917486142\n"
     ]
    },
    {
     "name": "stderr",
     "output_type": "stream",
     "text": [
      " 84%|████████▍ | 84/100 [01:32<00:17,  1.11s/it]"
     ]
    },
    {
     "name": "stdout",
     "output_type": "stream",
     "text": [
      "Epoch average loss:  -6.060939979110329\n"
     ]
    },
    {
     "name": "stderr",
     "output_type": "stream",
     "text": [
      " 85%|████████▌ | 85/100 [01:33<00:16,  1.08s/it]"
     ]
    },
    {
     "name": "stdout",
     "output_type": "stream",
     "text": [
      "Epoch average loss:  -6.031119479645666\n"
     ]
    },
    {
     "name": "stderr",
     "output_type": "stream",
     "text": [
      " 86%|████████▌ | 86/100 [01:34<00:14,  1.06s/it]"
     ]
    },
    {
     "name": "stdout",
     "output_type": "stream",
     "text": [
      "Epoch average loss:  -6.002082063462338\n"
     ]
    },
    {
     "name": "stderr",
     "output_type": "stream",
     "text": [
      " 87%|████████▋ | 87/100 [01:36<00:16,  1.25s/it]"
     ]
    },
    {
     "name": "stdout",
     "output_type": "stream",
     "text": [
      "Epoch average loss:  -5.973803149290531\n"
     ]
    },
    {
     "name": "stderr",
     "output_type": "stream",
     "text": [
      " 88%|████████▊ | 88/100 [01:37<00:14,  1.19s/it]"
     ]
    },
    {
     "name": "stdout",
     "output_type": "stream",
     "text": [
      "Epoch average loss:  -5.946259122535546\n"
     ]
    },
    {
     "name": "stderr",
     "output_type": "stream",
     "text": [
      " 89%|████████▉ | 89/100 [01:38<00:13,  1.19s/it]"
     ]
    },
    {
     "name": "stdout",
     "output_type": "stream",
     "text": [
      "Epoch average loss:  -5.919427273129896\n"
     ]
    },
    {
     "name": "stderr",
     "output_type": "stream",
     "text": [
      " 90%|█████████ | 90/100 [01:39<00:11,  1.19s/it]"
     ]
    },
    {
     "name": "stdout",
     "output_type": "stream",
     "text": [
      "Epoch average loss:  -5.893285736497767\n"
     ]
    },
    {
     "name": "stderr",
     "output_type": "stream",
     "text": [
      " 91%|█████████ | 91/100 [01:41<00:10,  1.22s/it]"
     ]
    },
    {
     "name": "stdout",
     "output_type": "stream",
     "text": [
      "Epoch average loss:  -5.867813438082234\n"
     ]
    },
    {
     "name": "stderr",
     "output_type": "stream",
     "text": [
      " 92%|█████████▏| 92/100 [01:42<00:09,  1.18s/it]"
     ]
    },
    {
     "name": "stdout",
     "output_type": "stream",
     "text": [
      "Epoch average loss:  -5.84299004204781\n"
     ]
    },
    {
     "name": "stderr",
     "output_type": "stream",
     "text": [
      " 93%|█████████▎| 93/100 [01:43<00:08,  1.17s/it]"
     ]
    },
    {
     "name": "stdout",
     "output_type": "stream",
     "text": [
      "Epoch average loss:  -5.818795904801229\n"
     ]
    },
    {
     "name": "stderr",
     "output_type": "stream",
     "text": [
      " 94%|█████████▍| 94/100 [01:44<00:06,  1.16s/it]"
     ]
    },
    {
     "name": "stdout",
     "output_type": "stream",
     "text": [
      "Epoch average loss:  -5.795212033847348\n"
     ]
    },
    {
     "name": "stderr",
     "output_type": "stream",
     "text": [
      " 95%|█████████▌| 95/100 [01:45<00:05,  1.12s/it]"
     ]
    },
    {
     "name": "stdout",
     "output_type": "stream",
     "text": [
      "Epoch average loss:  -5.772220052229913\n"
     ]
    },
    {
     "name": "stderr",
     "output_type": "stream",
     "text": [
      " 96%|█████████▌| 96/100 [01:46<00:04,  1.12s/it]"
     ]
    },
    {
     "name": "stdout",
     "output_type": "stream",
     "text": [
      "Epoch average loss:  -5.74980216844658\n"
     ]
    },
    {
     "name": "stderr",
     "output_type": "stream",
     "text": [
      " 97%|█████████▋| 97/100 [01:47<00:03,  1.10s/it]"
     ]
    },
    {
     "name": "stdout",
     "output_type": "stream",
     "text": [
      "Epoch average loss:  -5.727941151352069\n"
     ]
    },
    {
     "name": "stderr",
     "output_type": "stream",
     "text": [
      " 98%|█████████▊| 98/100 [01:48<00:02,  1.10s/it]"
     ]
    },
    {
     "name": "stdout",
     "output_type": "stream",
     "text": [
      "Epoch average loss:  -5.706620309252455\n"
     ]
    },
    {
     "name": "stderr",
     "output_type": "stream",
     "text": [
      " 99%|█████████▉| 99/100 [01:49<00:01,  1.12s/it]"
     ]
    },
    {
     "name": "stdout",
     "output_type": "stream",
     "text": [
      "Epoch average loss:  -5.685823472208937\n"
     ]
    },
    {
     "name": "stderr",
     "output_type": "stream",
     "text": [
      "100%|██████████| 100/100 [01:51<00:00,  1.11s/it]"
     ]
    },
    {
     "name": "stdout",
     "output_type": "stream",
     "text": [
      "Epoch average loss:  -5.665534976534376\n"
     ]
    },
    {
     "name": "stderr",
     "output_type": "stream",
     "text": [
      "\n"
     ]
    }
   ],
   "source": [
    "print('--- Gradient Checking ---')\n",
    "gradient_check()\n",
    "\n",
    "learned_weights_1, learned_weights_2,loss = train()\n"
   ]
  },
  {
   "cell_type": "code",
   "execution_count": null,
   "metadata": {},
   "outputs": [],
   "source": []
  },
  {
   "cell_type": "markdown",
   "metadata": {},
   "source": [
    "### Predicting "
   ]
  },
  {
   "cell_type": "markdown",
   "metadata": {},
   "source": [
    "Also a plot with our faults will be created"
   ]
  },
  {
   "cell_type": "code",
   "execution_count": 69,
   "metadata": {},
   "outputs": [
    {
     "name": "stdout",
     "output_type": "stream",
     "text": [
      "Accuracy on Test Data  : 0.976\n",
      "Writing to file: \n"
     ]
    },
    {
     "name": "stderr",
     "output_type": "stream",
     "text": [
      "D:\\Anaconda\\lib\\site-packages\\ipykernel_launcher.py:20: MatplotlibDeprecationWarning: Adding an axes using the same arguments as a previous axes currently reuses the earlier instance.  In a future version, a new instance will always be created and returned.  Meanwhile, this warning can be suppressed, and the future behavior ensured, by passing a unique label to each axes instance.\n"
     ]
    },
    {
     "data": {
      "image/png": "[encoded data removed]",
      "text/plain": [
       "<Figure size 792x936 with 25 Axes>"
      ]
     },
     "metadata": {
      "needs_background": "light"
     },
     "output_type": "display_data"
    }
   ],
   "source": [
    "predict()"
   ]
  },
  {
   "cell_type": "code",
   "execution_count": null,
   "metadata": {},
   "outputs": [],
   "source": []
  }
 ],
 "metadata": {
  "kernelspec": {
   "display_name": "Python 3",
   "language": "python",
   "name": "python3"
  },
  "language_info": {
   "codemirror_mode": {
    "name": "ipython",
    "version": 3
   },
   "file_extension": ".py",
   "mimetype": "text/x-python",
   "name": "python",
   "nbconvert_exporter": "python",
   "pygments_lexer": "ipython3",
   "version": "3.7.3"
  }
 },
 "nbformat": 4,
 "nbformat_minor": 4
}
